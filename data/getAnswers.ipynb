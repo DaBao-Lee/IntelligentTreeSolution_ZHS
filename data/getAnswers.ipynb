{
 "cells": [
  {
   "cell_type": "code",
   "execution_count": null,
   "metadata": {},
   "outputs": [],
   "source": [
    "from main import *\n",
    "\n",
    "m = treeSolution(\"19104960716\", \"Ldb20040716?\")"
   ]
  },
  {
   "cell_type": "code",
   "execution_count": 5,
   "metadata": {},
   "outputs": [],
   "source": [
    "import json\n",
    "\n",
    "def to_json(question, answer, title=\"\"):\n",
    "\n",
    "    f = open(f\"data/{title}.json\", \"+w\", encoding=\"utf-8\")\n",
    "    json.dump(dict(zip(question, answer)), f,\n",
    "              indent=4, ensure_ascii=False)\n",
    "    f.close()"
   ]
  },
  {
   "cell_type": "code",
   "execution_count": 33,
   "metadata": {},
   "outputs": [],
   "source": [
    "import re\n",
    "import time\n",
    "\n",
    "def getQuestionAnswer(driver, link, save=False, title=''):\n",
    "    \n",
    "    driver.get(link)\n",
    "    time.sleep(1)\n",
    "    question = []\n",
    "    answer = []\n",
    "    try:\n",
    "        if len(driver.find_elements(By.TAG_NAME, \"font\")[0].text.split(\"\\n\")) <= 1 :\n",
    "            fu_text = driver.find_elements(By.TAG_NAME, \"font\")[1].text.split(\"\\n\")\n",
    "        else: fu_text = driver.find_elements(By.TAG_NAME, \"font\")[0].text.split(\"\\n\")\n",
    "        fu_text = [x for x in fu_text if x != '']\n",
    "        flag = True\n",
    "        for index in range(len(fu_text)):\n",
    "            ti = fu_text[index]\n",
    "            if \"第一章\" not in  ti and flag: \n",
    "                continue\n",
    "            else: flag = False\n",
    "            if fu_text[index][0].isdigit(): \n",
    "                tmp = index\n",
    "                question.append(fu_text[index])\n",
    "            if fu_text[index][:4] in [\"我的答案\"] or fu_text[index][:2] in [\"答案\"]:\n",
    "                length = index - tmp - 1\n",
    "                true_answer = re.sub(\"[:]\", \"：\",fu_text[index])\n",
    "                true_answer = true_answer.split(\"：\")\n",
    "                true_answer = [x.strip(\" 【】\") for x in true_answer]\n",
    "                if len(true_answer) == 1: \n",
    "                    true_answer = fu_text[index][-1]\n",
    "                else:\n",
    "                    true_answer = true_answer[-1]\n",
    "                answer_dic = {(chr(65+length-v)):v for v in range(length, 0, -1)}\n",
    "                if len(true_answer) == 1:\n",
    "                    if true_answer in [\"X\", \"错\", 'x', '×']: answer.append(0)\n",
    "                    elif true_answer in [\"√\", \"对\"]: answer.append(1)\n",
    "                    else:\n",
    "                        option = answer_dic[true_answer]\n",
    "                        answer.append(fu_text[index - option])\n",
    "                else:\n",
    "                    options = []\n",
    "                    for option in true_answer:\n",
    "                        option = answer_dic[option]\n",
    "                        options.append(fu_text[index - option])\n",
    "                    answer.append(options)\n",
    "    except Exception as e:\n",
    "        print(true_answer)\n",
    "        print(e)\n",
    "        # return question, answer\n",
    "\n",
    "    return question, answer"
   ]
  },
  {
   "cell_type": "code",
   "execution_count": 72,
   "metadata": {},
   "outputs": [],
   "source": [
    "import time\n",
    "\n",
    "def getQuestionAnswer2(driver, link, save=False, title=''):\n",
    "    \n",
    "    driver.get(link)\n",
    "    time.sleep(1)\n",
    "    question = []\n",
    "    answers = []\n",
    "    flag = True\n",
    "    q_flag = False\n",
    "    try:\n",
    "        if len(driver.find_elements(By.TAG_NAME, \"font\")[0].text.split(\"\\n\")) <= 1 :\n",
    "            fu_text = driver.find_elements(By.TAG_NAME, \"font\")[1].text.split(\"\\n\")\n",
    "        else: fu_text = driver.find_elements(By.TAG_NAME, \"font\")[0].text.split(\"\\n\")\n",
    "        fu_text = [x for x in fu_text if x != '']\n",
    "        for index in range(len(fu_text)):\n",
    "            ti = fu_text[index]\n",
    "            if \"第一章\" not in ti and flag:  # 开始记录章节答题flag\n",
    "                continue\n",
    "            else: flag = False\n",
    "            if fu_text[index].split(\"、\")[0].isdigit(): \n",
    "                q1 = index\n",
    "                q_flag = True\n",
    "            if fu_text[index][0] == \"A\" and q_flag:\n",
    "                question.append(\" \".join(fu_text[q1: index]))\n",
    "                q_flag = False\n",
    "            if fu_text[index][:2] == \"答案\" :\n",
    "                tmp = index\n",
    "                # answers.append(fu_text[index].split(\":\")[-1])\n",
    "            if fu_text[index] == \"】\":\n",
    "                answer = fu_text[tmp+1: index]\n",
    "                if len(answer) == 1:\n",
    "                    if answer[0] == \"对\": answers.append(1)\n",
    "                    elif answer[0] == \"错\": answers.append(0)\n",
    "                    else: answers.extend(answer)\n",
    "                else:\n",
    "                    answers.append(fu_text[tmp+1: index])\n",
    "            # \n",
    "    except Exception as e:\n",
    "        print(e)\n",
    "    return question, answers"
   ]
  },
  {
   "cell_type": "code",
   "execution_count": null,
   "metadata": {},
   "outputs": [],
   "source": [
    "question = []\n",
    "answers = []\n",
    "fu_text = driver.find_elements(By.TAG_NAME, \"font\")[1].text.split(\"\\n\")\n",
    "fu_text = [x for x in fu_text if x != '']\n",
    "\n",
    "start = False\n",
    "atoz = [chr(x).upper() for x in range(65, 91)]\n",
    "for index in range(len(fu_text)):\n",
    "    if fu_text[index] != '第一章' and not start:\n",
    "        continue\n",
    "    else: start = True\n",
    "\n",
    "    if fu_text[index].replace('.', '').split(\"【\")[0].isdigit():\n",
    "        q_type = fu_text[index].split(\"】\")[0].strip(\"【\")\n",
    "        q = fu_text[index].split(\"】\")[-1]\n",
    "        if len(q) == 0:\n",
    "            q = fu_text[index+1]\n",
    "            tmp = index+1\n",
    "        else: tmp = index\n",
    "        question.append(q)\n",
    "        alphas = []\n",
    "        answer = []\n",
    "        for alpha in q:\n",
    "            if alpha in atoz:\n",
    "                alphas.append(alpha)\n",
    "        for alpha in alphas:\n",
    "            if alpha == \"A\": answer.append(fu_text[tmp+1])\n",
    "            elif alpha == \"B\": answer.append(fu_text[tmp+2])\n",
    "            elif alpha == \"C\": answer.append(fu_text[tmp+3])\n",
    "            elif alpha == \"D\": answer.append(fu_text[tmp+4])\n",
    "            elif alpha == \"E\": answer.append(fu_text[tmp+5])\n",
    "            elif alpha == \"F\": answer.append(fu_text[tmp+6])\n",
    "        if len(answer) == 1:\n",
    "            answers.extend(answer)\n",
    "        else:\n",
    "            answers.append(answer)"
   ]
  },
  {
   "cell_type": "code",
   "execution_count": 69,
   "metadata": {},
   "outputs": [],
   "source": [
    "from main import *\n",
    "\n",
    "option = wb.EdgeOptions()\n",
    "driver = wb.Edge(options=option)\n",
    "driver.get('http://www.iamooc.com/2000/053183.htm')"
   ]
  },
  {
   "cell_type": "code",
   "execution_count": 70,
   "metadata": {},
   "outputs": [],
   "source": [
    "question = []\n",
    "answers = []\n",
    "fu_text = driver.find_elements(By.TAG_NAME, \"font\")[1].text.split(\"\\n\")\n",
    "fu_text = [x for x in fu_text if x != '']"
   ]
  },
  {
   "cell_type": "code",
   "execution_count": 71,
   "metadata": {},
   "outputs": [],
   "source": [
    "start = False\n",
    "atoz = [chr(x).upper() for x in range(65, 91)]\n",
    "for index in range(len(fu_text)):\n",
    "    if fu_text[index] != '第一章 单元测试' and not start:\n",
    "        continue\n",
    "    else: start = True\n",
    "    line = fu_text[index].split(\"、\")[0]\n",
    "    if line.isdigit() and start:\n",
    "        question.append(fu_text[index])\n",
    "    if fu_text[index][: 2] == \"答案\":\n",
    "        tmp = index + 1\n",
    "    if fu_text[index] == '】':\n",
    "        true_answer = fu_text[tmp: index]\n",
    "        if len(true_answer) == 1:\n",
    "            answers.extend(true_answer)\n",
    "        else: answers.append(true_answer)"
   ]
  },
  {
   "cell_type": "code",
   "execution_count": 74,
   "metadata": {},
   "outputs": [],
   "source": [
    "a = answers.copy()"
   ]
  },
  {
   "cell_type": "code",
   "execution_count": 75,
   "metadata": {},
   "outputs": [],
   "source": [
    "question, answers2 = getQuestionAnswer(driver, \"http://www.iamooc.com/2000/053183.htm\")"
   ]
  },
  {
   "cell_type": "code",
   "execution_count": 77,
   "metadata": {},
   "outputs": [],
   "source": [
    "answers2 = [x for x in answers2 if x != []]"
   ]
  },
  {
   "cell_type": "code",
   "execution_count": 79,
   "metadata": {},
   "outputs": [],
   "source": [
    "answers = a + answers2"
   ]
  },
  {
   "cell_type": "code",
   "execution_count": 81,
   "metadata": {},
   "outputs": [],
   "source": [
    "to_json(question, answers, title=\"名画中的瘟疫史\")\n"
   ]
  }
 ],
 "metadata": {
  "kernelspec": {
   "display_name": "Python 3",
   "language": "python",
   "name": "python3"
  },
  "language_info": {
   "codemirror_mode": {
    "name": "ipython",
    "version": 3
   },
   "file_extension": ".py",
   "mimetype": "text/x-python",
   "name": "python",
   "nbconvert_exporter": "python",
   "pygments_lexer": "ipython3",
   "version": "3.8.0"
  }
 },
 "nbformat": 4,
 "nbformat_minor": 2
}

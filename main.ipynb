{
 "cells": [
  {
   "cell_type": "code",
   "execution_count": 1,
   "metadata": {},
   "outputs": [],
   "source": [
    "from main import *\n",
    "\n",
    "# m = treeSolution(\"19104960716\", \"Ldb20040716?\")"
   ]
  },
  {
   "cell_type": "code",
   "execution_count": 7,
   "metadata": {},
   "outputs": [],
   "source": [
    "import json\n",
    "\n",
    "def to_json(question, answer, title=\"\"):\n",
    "\n",
    "    f = open(f\"data/{title}.json\", \"+w\", encoding=\"utf-8\")\n",
    "    json.dump(dict(zip(question, answer)), f,\n",
    "              indent=4, ensure_ascii=False)\n",
    "    f.close()"
   ]
  },
  {
   "cell_type": "code",
   "execution_count": 171,
   "metadata": {},
   "outputs": [],
   "source": [
    "import re\n",
    "\n",
    "def getQuestionAnswer(driver, link, save=False, title=''):\n",
    "    \n",
    "    driver.get(link)\n",
    "    time.sleep(1)\n",
    "    question = []\n",
    "    answer = []\n",
    "    try:\n",
    "        if len(driver.find_elements(By.TAG_NAME, \"font\")[0].text.split(\"\\n\")) <= 1 :\n",
    "            fu_text = driver.find_elements(By.TAG_NAME, \"font\")[1].text.split(\"\\n\")\n",
    "        else: fu_text = driver.find_elements(By.TAG_NAME, \"font\")[0].text.split(\"\\n\")\n",
    "        fu_text = [x for x in fu_text if x != '']\n",
    "        flag = True\n",
    "        for index in range(len(fu_text)):\n",
    "            ti = fu_text[index]\n",
    "            if \"第一章\" not in  ti and flag: \n",
    "                continue\n",
    "            else: flag = False\n",
    "            if fu_text[index][0].isdigit(): \n",
    "                tmp = index\n",
    "                question.append(fu_text[index])\n",
    "            if fu_text[index][:4] in [\"我的答案\"] :\n",
    "                length = index - tmp - 1\n",
    "                true_answer = re.sub(\"[:]\", \"：\",fu_text[index])\n",
    "                true_answer = true_answer.split(\"：\")\n",
    "                if len(true_answer) == 1: \n",
    "                    true_answer = fu_text[index][-1]\n",
    "                else:\n",
    "                    true_answer = true_answer[-1]\n",
    "                answer_dic = {(chr(65+length-v)):v for v in range(length, 0, -1)}\n",
    "                if len(true_answer) == 1:\n",
    "                    if true_answer in [\"X\", \"错\", 'x']: answer.append(0)\n",
    "                    elif true_answer in [\"√\", \"对\"]: answer.append(1)\n",
    "                    else:\n",
    "                        option = answer_dic[true_answer]\n",
    "                        answer.append(fu_text[index - option])\n",
    "                else:\n",
    "                    options = []\n",
    "                    for option in true_answer:\n",
    "                        option = answer_dic[option]\n",
    "                        options.append(fu_text[index - option])\n",
    "                    answer.append(options)\n",
    "    except Exception as e:\n",
    "        print(e)\n",
    "        # return question, answer\n",
    "\n",
    "    return question, answer"
   ]
  },
  {
   "cell_type": "code",
   "execution_count": 66,
   "metadata": {},
   "outputs": [],
   "source": [
    "from main import *\n",
    "\n",
    "option = wb.EdgeOptions()\n",
    "option.add_argument('--headless')\n",
    "driver = wb.Edge(options=option)\n",
    "# driver.get('http://www.iamooc.com/zhihuishudaan.htm')"
   ]
  },
  {
   "cell_type": "code",
   "execution_count": 175,
   "metadata": {},
   "outputs": [],
   "source": [
    "question, answers = getQuestionAnswer(driver, \"http://www.iamooc.com/2000/060422.htm\")\n",
    "\n",
    "to_json(question, answers, title=\"汽车行走的艺术\")\n"
   ]
  }
 ],
 "metadata": {
  "kernelspec": {
   "display_name": "Python 3",
   "language": "python",
   "name": "python3"
  },
  "language_info": {
   "codemirror_mode": {
    "name": "ipython",
    "version": 3
   },
   "file_extension": ".py",
   "mimetype": "text/x-python",
   "name": "python",
   "nbconvert_exporter": "python",
   "pygments_lexer": "ipython3",
   "version": "3.8.0"
  }
 },
 "nbformat": 4,
 "nbformat_minor": 2
}
